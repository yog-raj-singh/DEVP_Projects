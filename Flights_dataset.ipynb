{
 "cells": [
  {
   "cell_type": "code",
   "execution_count": 1,
   "id": "3a62a6a7",
   "metadata": {},
   "outputs": [],
   "source": [
    "import numpy as np\n",
    "import pandas as pd\n",
    "import matplotlib.pyplot as plt\n",
    "import seaborn as sns\n",
    "CF = pd.read_csv(\"Cleaned_2018_Flights.csv\")"
   ]
  },
  {
   "cell_type": "code",
   "execution_count": 2,
   "id": "76abe46a",
   "metadata": {},
   "outputs": [
    {
     "data": {
      "text/html": [
       "<div>\n",
       "<style scoped>\n",
       "    .dataframe tbody tr th:only-of-type {\n",
       "        vertical-align: middle;\n",
       "    }\n",
       "\n",
       "    .dataframe tbody tr th {\n",
       "        vertical-align: top;\n",
       "    }\n",
       "\n",
       "    .dataframe thead th {\n",
       "        text-align: right;\n",
       "    }\n",
       "</style>\n",
       "<table border=\"1\" class=\"dataframe\">\n",
       "  <thead>\n",
       "    <tr style=\"text-align: right;\">\n",
       "      <th></th>\n",
       "      <th>Unnamed: 0</th>\n",
       "      <th>ItinID</th>\n",
       "      <th>MktID</th>\n",
       "      <th>MktCoupons</th>\n",
       "      <th>Quarter</th>\n",
       "      <th>Origin</th>\n",
       "      <th>OriginWac</th>\n",
       "      <th>Dest</th>\n",
       "      <th>DestWac</th>\n",
       "      <th>Miles</th>\n",
       "      <th>ContiguousUSA</th>\n",
       "      <th>NumTicketsOrdered</th>\n",
       "      <th>AirlineCompany</th>\n",
       "      <th>PricePerTicket</th>\n",
       "    </tr>\n",
       "  </thead>\n",
       "  <tbody>\n",
       "    <tr>\n",
       "      <th>0</th>\n",
       "      <td>0</td>\n",
       "      <td>20181767585</td>\n",
       "      <td>2018176758501</td>\n",
       "      <td>1</td>\n",
       "      <td>1</td>\n",
       "      <td>PHL</td>\n",
       "      <td>23</td>\n",
       "      <td>LAX</td>\n",
       "      <td>91</td>\n",
       "      <td>2402.0</td>\n",
       "      <td>2</td>\n",
       "      <td>1.0</td>\n",
       "      <td>AA</td>\n",
       "      <td>672.87</td>\n",
       "    </tr>\n",
       "    <tr>\n",
       "      <th>1</th>\n",
       "      <td>1</td>\n",
       "      <td>20181767586</td>\n",
       "      <td>2018176758601</td>\n",
       "      <td>1</td>\n",
       "      <td>1</td>\n",
       "      <td>PHL</td>\n",
       "      <td>23</td>\n",
       "      <td>LAX</td>\n",
       "      <td>91</td>\n",
       "      <td>2402.0</td>\n",
       "      <td>2</td>\n",
       "      <td>1.0</td>\n",
       "      <td>AA</td>\n",
       "      <td>367.68</td>\n",
       "    </tr>\n",
       "    <tr>\n",
       "      <th>2</th>\n",
       "      <td>2</td>\n",
       "      <td>20181767587</td>\n",
       "      <td>2018176758701</td>\n",
       "      <td>1</td>\n",
       "      <td>1</td>\n",
       "      <td>PHL</td>\n",
       "      <td>23</td>\n",
       "      <td>LAX</td>\n",
       "      <td>91</td>\n",
       "      <td>2402.0</td>\n",
       "      <td>2</td>\n",
       "      <td>1.0</td>\n",
       "      <td>AA</td>\n",
       "      <td>417.94</td>\n",
       "    </tr>\n",
       "    <tr>\n",
       "      <th>3</th>\n",
       "      <td>3</td>\n",
       "      <td>20181767636</td>\n",
       "      <td>2018176763601</td>\n",
       "      <td>1</td>\n",
       "      <td>1</td>\n",
       "      <td>PHL</td>\n",
       "      <td>23</td>\n",
       "      <td>LAX</td>\n",
       "      <td>91</td>\n",
       "      <td>2402.0</td>\n",
       "      <td>2</td>\n",
       "      <td>1.0</td>\n",
       "      <td>AA</td>\n",
       "      <td>247.10</td>\n",
       "    </tr>\n",
       "    <tr>\n",
       "      <th>4</th>\n",
       "      <td>4</td>\n",
       "      <td>20181767637</td>\n",
       "      <td>2018176763701</td>\n",
       "      <td>1</td>\n",
       "      <td>1</td>\n",
       "      <td>PHL</td>\n",
       "      <td>23</td>\n",
       "      <td>LAX</td>\n",
       "      <td>91</td>\n",
       "      <td>2402.0</td>\n",
       "      <td>2</td>\n",
       "      <td>1.0</td>\n",
       "      <td>AA</td>\n",
       "      <td>276.35</td>\n",
       "    </tr>\n",
       "  </tbody>\n",
       "</table>\n",
       "</div>"
      ],
      "text/plain": [
       "   Unnamed: 0       ItinID          MktID  MktCoupons  Quarter Origin  \\\n",
       "0           0  20181767585  2018176758501           1        1    PHL   \n",
       "1           1  20181767586  2018176758601           1        1    PHL   \n",
       "2           2  20181767587  2018176758701           1        1    PHL   \n",
       "3           3  20181767636  2018176763601           1        1    PHL   \n",
       "4           4  20181767637  2018176763701           1        1    PHL   \n",
       "\n",
       "   OriginWac Dest  DestWac   Miles  ContiguousUSA  NumTicketsOrdered  \\\n",
       "0         23  LAX       91  2402.0              2                1.0   \n",
       "1         23  LAX       91  2402.0              2                1.0   \n",
       "2         23  LAX       91  2402.0              2                1.0   \n",
       "3         23  LAX       91  2402.0              2                1.0   \n",
       "4         23  LAX       91  2402.0              2                1.0   \n",
       "\n",
       "  AirlineCompany  PricePerTicket  \n",
       "0             AA          672.87  \n",
       "1             AA          367.68  \n",
       "2             AA          417.94  \n",
       "3             AA          247.10  \n",
       "4             AA          276.35  "
      ]
     },
     "execution_count": 2,
     "metadata": {},
     "output_type": "execute_result"
    }
   ],
   "source": [
    "CF.head()"
   ]
  },
  {
   "cell_type": "code",
   "execution_count": 3,
   "id": "94fea944",
   "metadata": {},
   "outputs": [
    {
     "data": {
      "text/plain": [
       "Unnamed: 0           0\n",
       "ItinID               0\n",
       "MktID                0\n",
       "MktCoupons           0\n",
       "Quarter              0\n",
       "Origin               0\n",
       "OriginWac            0\n",
       "Dest                 0\n",
       "DestWac              0\n",
       "Miles                0\n",
       "ContiguousUSA        0\n",
       "NumTicketsOrdered    0\n",
       "AirlineCompany       0\n",
       "PricePerTicket       0\n",
       "dtype: int64"
      ]
     },
     "execution_count": 3,
     "metadata": {},
     "output_type": "execute_result"
    }
   ],
   "source": [
    "CF.isnull().sum()"
   ]
  },
  {
   "cell_type": "code",
   "execution_count": 4,
   "id": "5b198d4d",
   "metadata": {},
   "outputs": [],
   "source": [
    "CF.drop(\"Unnamed: 0\", axis=1, inplace=True)"
   ]
  },
  {
   "cell_type": "code",
   "execution_count": 5,
   "id": "af82ffb4",
   "metadata": {},
   "outputs": [
    {
     "data": {
      "text/html": [
       "<div>\n",
       "<style scoped>\n",
       "    .dataframe tbody tr th:only-of-type {\n",
       "        vertical-align: middle;\n",
       "    }\n",
       "\n",
       "    .dataframe tbody tr th {\n",
       "        vertical-align: top;\n",
       "    }\n",
       "\n",
       "    .dataframe thead th {\n",
       "        text-align: right;\n",
       "    }\n",
       "</style>\n",
       "<table border=\"1\" class=\"dataframe\">\n",
       "  <thead>\n",
       "    <tr style=\"text-align: right;\">\n",
       "      <th></th>\n",
       "      <th>ItinID</th>\n",
       "      <th>MktID</th>\n",
       "      <th>MktCoupons</th>\n",
       "      <th>Quarter</th>\n",
       "      <th>Origin</th>\n",
       "      <th>OriginWac</th>\n",
       "      <th>Dest</th>\n",
       "      <th>DestWac</th>\n",
       "      <th>Miles</th>\n",
       "      <th>ContiguousUSA</th>\n",
       "      <th>NumTicketsOrdered</th>\n",
       "      <th>AirlineCompany</th>\n",
       "      <th>PricePerTicket</th>\n",
       "    </tr>\n",
       "  </thead>\n",
       "  <tbody>\n",
       "    <tr>\n",
       "      <th>0</th>\n",
       "      <td>20181767585</td>\n",
       "      <td>2018176758501</td>\n",
       "      <td>1</td>\n",
       "      <td>1</td>\n",
       "      <td>PHL</td>\n",
       "      <td>23</td>\n",
       "      <td>LAX</td>\n",
       "      <td>91</td>\n",
       "      <td>2402.0</td>\n",
       "      <td>2</td>\n",
       "      <td>1.0</td>\n",
       "      <td>AA</td>\n",
       "      <td>672.87</td>\n",
       "    </tr>\n",
       "    <tr>\n",
       "      <th>1</th>\n",
       "      <td>20181767586</td>\n",
       "      <td>2018176758601</td>\n",
       "      <td>1</td>\n",
       "      <td>1</td>\n",
       "      <td>PHL</td>\n",
       "      <td>23</td>\n",
       "      <td>LAX</td>\n",
       "      <td>91</td>\n",
       "      <td>2402.0</td>\n",
       "      <td>2</td>\n",
       "      <td>1.0</td>\n",
       "      <td>AA</td>\n",
       "      <td>367.68</td>\n",
       "    </tr>\n",
       "    <tr>\n",
       "      <th>2</th>\n",
       "      <td>20181767587</td>\n",
       "      <td>2018176758701</td>\n",
       "      <td>1</td>\n",
       "      <td>1</td>\n",
       "      <td>PHL</td>\n",
       "      <td>23</td>\n",
       "      <td>LAX</td>\n",
       "      <td>91</td>\n",
       "      <td>2402.0</td>\n",
       "      <td>2</td>\n",
       "      <td>1.0</td>\n",
       "      <td>AA</td>\n",
       "      <td>417.94</td>\n",
       "    </tr>\n",
       "    <tr>\n",
       "      <th>3</th>\n",
       "      <td>20181767636</td>\n",
       "      <td>2018176763601</td>\n",
       "      <td>1</td>\n",
       "      <td>1</td>\n",
       "      <td>PHL</td>\n",
       "      <td>23</td>\n",
       "      <td>LAX</td>\n",
       "      <td>91</td>\n",
       "      <td>2402.0</td>\n",
       "      <td>2</td>\n",
       "      <td>1.0</td>\n",
       "      <td>AA</td>\n",
       "      <td>247.10</td>\n",
       "    </tr>\n",
       "    <tr>\n",
       "      <th>4</th>\n",
       "      <td>20181767637</td>\n",
       "      <td>2018176763701</td>\n",
       "      <td>1</td>\n",
       "      <td>1</td>\n",
       "      <td>PHL</td>\n",
       "      <td>23</td>\n",
       "      <td>LAX</td>\n",
       "      <td>91</td>\n",
       "      <td>2402.0</td>\n",
       "      <td>2</td>\n",
       "      <td>1.0</td>\n",
       "      <td>AA</td>\n",
       "      <td>276.35</td>\n",
       "    </tr>\n",
       "  </tbody>\n",
       "</table>\n",
       "</div>"
      ],
      "text/plain": [
       "        ItinID          MktID  MktCoupons  Quarter Origin  OriginWac Dest  \\\n",
       "0  20181767585  2018176758501           1        1    PHL         23  LAX   \n",
       "1  20181767586  2018176758601           1        1    PHL         23  LAX   \n",
       "2  20181767587  2018176758701           1        1    PHL         23  LAX   \n",
       "3  20181767636  2018176763601           1        1    PHL         23  LAX   \n",
       "4  20181767637  2018176763701           1        1    PHL         23  LAX   \n",
       "\n",
       "   DestWac   Miles  ContiguousUSA  NumTicketsOrdered AirlineCompany  \\\n",
       "0       91  2402.0              2                1.0             AA   \n",
       "1       91  2402.0              2                1.0             AA   \n",
       "2       91  2402.0              2                1.0             AA   \n",
       "3       91  2402.0              2                1.0             AA   \n",
       "4       91  2402.0              2                1.0             AA   \n",
       "\n",
       "   PricePerTicket  \n",
       "0          672.87  \n",
       "1          367.68  \n",
       "2          417.94  \n",
       "3          247.10  \n",
       "4          276.35  "
      ]
     },
     "execution_count": 5,
     "metadata": {},
     "output_type": "execute_result"
    }
   ],
   "source": [
    "CF.head()"
   ]
  },
  {
   "cell_type": "code",
   "execution_count": 6,
   "id": "cf882726",
   "metadata": {},
   "outputs": [
    {
     "data": {
      "text/plain": [
       "(9534417, 13)"
      ]
     },
     "execution_count": 6,
     "metadata": {},
     "output_type": "execute_result"
    }
   ],
   "source": [
    "CF.shape"
   ]
  },
  {
   "cell_type": "code",
   "execution_count": 7,
   "id": "2228856c",
   "metadata": {},
   "outputs": [
    {
     "name": "stdout",
     "output_type": "stream",
     "text": [
      "<class 'pandas.core.frame.DataFrame'>\n",
      "RangeIndex: 9534417 entries, 0 to 9534416\n",
      "Data columns (total 13 columns):\n",
      " #   Column             Dtype  \n",
      "---  ------             -----  \n",
      " 0   ItinID             int64  \n",
      " 1   MktID              int64  \n",
      " 2   MktCoupons         int64  \n",
      " 3   Quarter            int64  \n",
      " 4   Origin             object \n",
      " 5   OriginWac          int64  \n",
      " 6   Dest               object \n",
      " 7   DestWac            int64  \n",
      " 8   Miles              float64\n",
      " 9   ContiguousUSA      int64  \n",
      " 10  NumTicketsOrdered  float64\n",
      " 11  AirlineCompany     object \n",
      " 12  PricePerTicket     float64\n",
      "dtypes: float64(3), int64(7), object(3)\n",
      "memory usage: 945.6+ MB\n"
     ]
    }
   ],
   "source": [
    "CF.info()"
   ]
  },
  {
   "cell_type": "code",
   "execution_count": 8,
   "id": "27ee727f",
   "metadata": {},
   "outputs": [
    {
     "data": {
      "text/plain": [
       "Index(['ItinID', 'MktID', 'MktCoupons', 'Quarter', 'Origin', 'OriginWac',\n",
       "       'Dest', 'DestWac', 'Miles', 'ContiguousUSA', 'NumTicketsOrdered',\n",
       "       'AirlineCompany', 'PricePerTicket'],\n",
       "      dtype='object')"
      ]
     },
     "execution_count": 8,
     "metadata": {},
     "output_type": "execute_result"
    }
   ],
   "source": [
    "CF.columns"
   ]
  },
  {
   "cell_type": "code",
   "execution_count": 9,
   "id": "c0d0213e",
   "metadata": {},
   "outputs": [
    {
     "data": {
      "text/html": [
       "<div>\n",
       "<style scoped>\n",
       "    .dataframe tbody tr th:only-of-type {\n",
       "        vertical-align: middle;\n",
       "    }\n",
       "\n",
       "    .dataframe tbody tr th {\n",
       "        vertical-align: top;\n",
       "    }\n",
       "\n",
       "    .dataframe thead th {\n",
       "        text-align: right;\n",
       "    }\n",
       "</style>\n",
       "<table border=\"1\" class=\"dataframe\">\n",
       "  <thead>\n",
       "    <tr style=\"text-align: right;\">\n",
       "      <th></th>\n",
       "      <th>ItinID</th>\n",
       "      <th>MktID</th>\n",
       "      <th>MktCoupons</th>\n",
       "      <th>Quarter</th>\n",
       "      <th>OriginWac</th>\n",
       "      <th>DestWac</th>\n",
       "      <th>Miles</th>\n",
       "      <th>ContiguousUSA</th>\n",
       "      <th>NumTicketsOrdered</th>\n",
       "      <th>PricePerTicket</th>\n",
       "    </tr>\n",
       "  </thead>\n",
       "  <tbody>\n",
       "    <tr>\n",
       "      <th>count</th>\n",
       "      <td>9.534417e+06</td>\n",
       "      <td>9.534417e+06</td>\n",
       "      <td>9.534417e+06</td>\n",
       "      <td>9.534417e+06</td>\n",
       "      <td>9.534417e+06</td>\n",
       "      <td>9.534417e+06</td>\n",
       "      <td>9.534417e+06</td>\n",
       "      <td>9.534417e+06</td>\n",
       "      <td>9.534417e+06</td>\n",
       "      <td>9.534417e+06</td>\n",
       "    </tr>\n",
       "    <tr>\n",
       "      <th>mean</th>\n",
       "      <td>1.759457e+11</td>\n",
       "      <td>1.759457e+13</td>\n",
       "      <td>1.018007e+00</td>\n",
       "      <td>2.557957e+00</td>\n",
       "      <td>5.466834e+01</td>\n",
       "      <td>5.462018e+01</td>\n",
       "      <td>1.201739e+03</td>\n",
       "      <td>1.944869e+00</td>\n",
       "      <td>2.410631e+00</td>\n",
       "      <td>2.324497e+02</td>\n",
       "    </tr>\n",
       "    <tr>\n",
       "      <th>std</th>\n",
       "      <td>6.349516e+10</td>\n",
       "      <td>6.349516e+12</td>\n",
       "      <td>1.330694e-01</td>\n",
       "      <td>1.112684e+00</td>\n",
       "      <td>2.801241e+01</td>\n",
       "      <td>2.805461e+01</td>\n",
       "      <td>6.971492e+02</td>\n",
       "      <td>2.282366e-01</td>\n",
       "      <td>2.879671e+00</td>\n",
       "      <td>1.433412e+02</td>\n",
       "    </tr>\n",
       "    <tr>\n",
       "      <th>min</th>\n",
       "      <td>2.018110e+10</td>\n",
       "      <td>2.018110e+12</td>\n",
       "      <td>1.000000e+00</td>\n",
       "      <td>1.000000e+00</td>\n",
       "      <td>1.000000e+00</td>\n",
       "      <td>1.000000e+00</td>\n",
       "      <td>1.100000e+01</td>\n",
       "      <td>1.000000e+00</td>\n",
       "      <td>1.000000e+00</td>\n",
       "      <td>5.000000e+01</td>\n",
       "    </tr>\n",
       "    <tr>\n",
       "      <th>25%</th>\n",
       "      <td>2.018135e+11</td>\n",
       "      <td>2.018135e+13</td>\n",
       "      <td>1.000000e+00</td>\n",
       "      <td>2.000000e+00</td>\n",
       "      <td>3.300000e+01</td>\n",
       "      <td>3.300000e+01</td>\n",
       "      <td>6.790000e+02</td>\n",
       "      <td>2.000000e+00</td>\n",
       "      <td>1.000000e+00</td>\n",
       "      <td>1.339100e+02</td>\n",
       "    </tr>\n",
       "    <tr>\n",
       "      <th>50%</th>\n",
       "      <td>2.018248e+11</td>\n",
       "      <td>2.018248e+13</td>\n",
       "      <td>1.000000e+00</td>\n",
       "      <td>3.000000e+00</td>\n",
       "      <td>4.400000e+01</td>\n",
       "      <td>4.400000e+01</td>\n",
       "      <td>1.028000e+03</td>\n",
       "      <td>2.000000e+00</td>\n",
       "      <td>1.000000e+00</td>\n",
       "      <td>1.971900e+02</td>\n",
       "    </tr>\n",
       "    <tr>\n",
       "      <th>75%</th>\n",
       "      <td>2.018352e+11</td>\n",
       "      <td>2.018352e+13</td>\n",
       "      <td>1.000000e+00</td>\n",
       "      <td>4.000000e+00</td>\n",
       "      <td>8.200000e+01</td>\n",
       "      <td>8.200000e+01</td>\n",
       "      <td>1.609000e+03</td>\n",
       "      <td>2.000000e+00</td>\n",
       "      <td>2.000000e+00</td>\n",
       "      <td>2.900000e+02</td>\n",
       "    </tr>\n",
       "    <tr>\n",
       "      <th>max</th>\n",
       "      <td>2.018454e+11</td>\n",
       "      <td>2.018454e+13</td>\n",
       "      <td>3.000000e+00</td>\n",
       "      <td>4.000000e+00</td>\n",
       "      <td>9.300000e+01</td>\n",
       "      <td>9.300000e+01</td>\n",
       "      <td>5.095000e+03</td>\n",
       "      <td>2.000000e+00</td>\n",
       "      <td>2.000000e+01</td>\n",
       "      <td>1.000000e+03</td>\n",
       "    </tr>\n",
       "  </tbody>\n",
       "</table>\n",
       "</div>"
      ],
      "text/plain": [
       "             ItinID         MktID    MktCoupons       Quarter     OriginWac  \\\n",
       "count  9.534417e+06  9.534417e+06  9.534417e+06  9.534417e+06  9.534417e+06   \n",
       "mean   1.759457e+11  1.759457e+13  1.018007e+00  2.557957e+00  5.466834e+01   \n",
       "std    6.349516e+10  6.349516e+12  1.330694e-01  1.112684e+00  2.801241e+01   \n",
       "min    2.018110e+10  2.018110e+12  1.000000e+00  1.000000e+00  1.000000e+00   \n",
       "25%    2.018135e+11  2.018135e+13  1.000000e+00  2.000000e+00  3.300000e+01   \n",
       "50%    2.018248e+11  2.018248e+13  1.000000e+00  3.000000e+00  4.400000e+01   \n",
       "75%    2.018352e+11  2.018352e+13  1.000000e+00  4.000000e+00  8.200000e+01   \n",
       "max    2.018454e+11  2.018454e+13  3.000000e+00  4.000000e+00  9.300000e+01   \n",
       "\n",
       "            DestWac         Miles  ContiguousUSA  NumTicketsOrdered  \\\n",
       "count  9.534417e+06  9.534417e+06   9.534417e+06       9.534417e+06   \n",
       "mean   5.462018e+01  1.201739e+03   1.944869e+00       2.410631e+00   \n",
       "std    2.805461e+01  6.971492e+02   2.282366e-01       2.879671e+00   \n",
       "min    1.000000e+00  1.100000e+01   1.000000e+00       1.000000e+00   \n",
       "25%    3.300000e+01  6.790000e+02   2.000000e+00       1.000000e+00   \n",
       "50%    4.400000e+01  1.028000e+03   2.000000e+00       1.000000e+00   \n",
       "75%    8.200000e+01  1.609000e+03   2.000000e+00       2.000000e+00   \n",
       "max    9.300000e+01  5.095000e+03   2.000000e+00       2.000000e+01   \n",
       "\n",
       "       PricePerTicket  \n",
       "count    9.534417e+06  \n",
       "mean     2.324497e+02  \n",
       "std      1.433412e+02  \n",
       "min      5.000000e+01  \n",
       "25%      1.339100e+02  \n",
       "50%      1.971900e+02  \n",
       "75%      2.900000e+02  \n",
       "max      1.000000e+03  "
      ]
     },
     "execution_count": 9,
     "metadata": {},
     "output_type": "execute_result"
    }
   ],
   "source": [
    "CF.describe()"
   ]
  },
  {
   "cell_type": "code",
   "execution_count": 10,
   "id": "76494cbe",
   "metadata": {},
   "outputs": [],
   "source": [
    "#CF = CF.rename(columns= {\"OriginWac\":\"Origin\"})"
   ]
  },
  {
   "cell_type": "code",
   "execution_count": 11,
   "id": "a791340e",
   "metadata": {},
   "outputs": [],
   "source": [
    "#CF = CF.rename(columns= {\"DestWac\":\"Dest\"})"
   ]
  },
  {
   "cell_type": "code",
   "execution_count": 12,
   "id": "b4e41e03",
   "metadata": {},
   "outputs": [
    {
     "data": {
      "text/plain": [
       "Index(['ItinID', 'MktID', 'MktCoupons', 'Quarter', 'Origin', 'OriginWac',\n",
       "       'Dest', 'DestWac', 'Miles', 'ContiguousUSA', 'NumTicketsOrdered',\n",
       "       'AirlineCompany', 'PricePerTicket'],\n",
       "      dtype='object')"
      ]
     },
     "execution_count": 12,
     "metadata": {},
     "output_type": "execute_result"
    }
   ],
   "source": [
    "CF.columns"
   ]
  },
  {
   "cell_type": "code",
   "execution_count": 13,
   "id": "75b13009",
   "metadata": {},
   "outputs": [],
   "source": [
    "CF.drop('ItinID', axis = 1, inplace = True)"
   ]
  },
  {
   "cell_type": "code",
   "execution_count": 14,
   "id": "f1fad913",
   "metadata": {},
   "outputs": [
    {
     "data": {
      "text/html": [
       "<div>\n",
       "<style scoped>\n",
       "    .dataframe tbody tr th:only-of-type {\n",
       "        vertical-align: middle;\n",
       "    }\n",
       "\n",
       "    .dataframe tbody tr th {\n",
       "        vertical-align: top;\n",
       "    }\n",
       "\n",
       "    .dataframe thead th {\n",
       "        text-align: right;\n",
       "    }\n",
       "</style>\n",
       "<table border=\"1\" class=\"dataframe\">\n",
       "  <thead>\n",
       "    <tr style=\"text-align: right;\">\n",
       "      <th></th>\n",
       "      <th>MktID</th>\n",
       "      <th>MktCoupons</th>\n",
       "      <th>Quarter</th>\n",
       "      <th>Origin</th>\n",
       "      <th>OriginWac</th>\n",
       "      <th>Dest</th>\n",
       "      <th>DestWac</th>\n",
       "      <th>Miles</th>\n",
       "      <th>ContiguousUSA</th>\n",
       "      <th>NumTicketsOrdered</th>\n",
       "      <th>AirlineCompany</th>\n",
       "      <th>PricePerTicket</th>\n",
       "    </tr>\n",
       "  </thead>\n",
       "  <tbody>\n",
       "    <tr>\n",
       "      <th>0</th>\n",
       "      <td>2018176758501</td>\n",
       "      <td>1</td>\n",
       "      <td>1</td>\n",
       "      <td>PHL</td>\n",
       "      <td>23</td>\n",
       "      <td>LAX</td>\n",
       "      <td>91</td>\n",
       "      <td>2402.0</td>\n",
       "      <td>2</td>\n",
       "      <td>1.0</td>\n",
       "      <td>AA</td>\n",
       "      <td>672.87</td>\n",
       "    </tr>\n",
       "    <tr>\n",
       "      <th>1</th>\n",
       "      <td>2018176758601</td>\n",
       "      <td>1</td>\n",
       "      <td>1</td>\n",
       "      <td>PHL</td>\n",
       "      <td>23</td>\n",
       "      <td>LAX</td>\n",
       "      <td>91</td>\n",
       "      <td>2402.0</td>\n",
       "      <td>2</td>\n",
       "      <td>1.0</td>\n",
       "      <td>AA</td>\n",
       "      <td>367.68</td>\n",
       "    </tr>\n",
       "    <tr>\n",
       "      <th>2</th>\n",
       "      <td>2018176758701</td>\n",
       "      <td>1</td>\n",
       "      <td>1</td>\n",
       "      <td>PHL</td>\n",
       "      <td>23</td>\n",
       "      <td>LAX</td>\n",
       "      <td>91</td>\n",
       "      <td>2402.0</td>\n",
       "      <td>2</td>\n",
       "      <td>1.0</td>\n",
       "      <td>AA</td>\n",
       "      <td>417.94</td>\n",
       "    </tr>\n",
       "    <tr>\n",
       "      <th>3</th>\n",
       "      <td>2018176763601</td>\n",
       "      <td>1</td>\n",
       "      <td>1</td>\n",
       "      <td>PHL</td>\n",
       "      <td>23</td>\n",
       "      <td>LAX</td>\n",
       "      <td>91</td>\n",
       "      <td>2402.0</td>\n",
       "      <td>2</td>\n",
       "      <td>1.0</td>\n",
       "      <td>AA</td>\n",
       "      <td>247.10</td>\n",
       "    </tr>\n",
       "    <tr>\n",
       "      <th>4</th>\n",
       "      <td>2018176763701</td>\n",
       "      <td>1</td>\n",
       "      <td>1</td>\n",
       "      <td>PHL</td>\n",
       "      <td>23</td>\n",
       "      <td>LAX</td>\n",
       "      <td>91</td>\n",
       "      <td>2402.0</td>\n",
       "      <td>2</td>\n",
       "      <td>1.0</td>\n",
       "      <td>AA</td>\n",
       "      <td>276.35</td>\n",
       "    </tr>\n",
       "  </tbody>\n",
       "</table>\n",
       "</div>"
      ],
      "text/plain": [
       "           MktID  MktCoupons  Quarter Origin  OriginWac Dest  DestWac   Miles  \\\n",
       "0  2018176758501           1        1    PHL         23  LAX       91  2402.0   \n",
       "1  2018176758601           1        1    PHL         23  LAX       91  2402.0   \n",
       "2  2018176758701           1        1    PHL         23  LAX       91  2402.0   \n",
       "3  2018176763601           1        1    PHL         23  LAX       91  2402.0   \n",
       "4  2018176763701           1        1    PHL         23  LAX       91  2402.0   \n",
       "\n",
       "   ContiguousUSA  NumTicketsOrdered AirlineCompany  PricePerTicket  \n",
       "0              2                1.0             AA          672.87  \n",
       "1              2                1.0             AA          367.68  \n",
       "2              2                1.0             AA          417.94  \n",
       "3              2                1.0             AA          247.10  \n",
       "4              2                1.0             AA          276.35  "
      ]
     },
     "execution_count": 14,
     "metadata": {},
     "output_type": "execute_result"
    }
   ],
   "source": [
    "CF.head()"
   ]
  },
  {
   "cell_type": "code",
   "execution_count": 15,
   "id": "33f393db",
   "metadata": {},
   "outputs": [],
   "source": [
    "CF.drop('MktID', axis = 1, inplace = True)"
   ]
  },
  {
   "cell_type": "code",
   "execution_count": 16,
   "id": "b004095e",
   "metadata": {},
   "outputs": [
    {
     "data": {
      "text/html": [
       "<div>\n",
       "<style scoped>\n",
       "    .dataframe tbody tr th:only-of-type {\n",
       "        vertical-align: middle;\n",
       "    }\n",
       "\n",
       "    .dataframe tbody tr th {\n",
       "        vertical-align: top;\n",
       "    }\n",
       "\n",
       "    .dataframe thead th {\n",
       "        text-align: right;\n",
       "    }\n",
       "</style>\n",
       "<table border=\"1\" class=\"dataframe\">\n",
       "  <thead>\n",
       "    <tr style=\"text-align: right;\">\n",
       "      <th></th>\n",
       "      <th>MktCoupons</th>\n",
       "      <th>Quarter</th>\n",
       "      <th>Origin</th>\n",
       "      <th>OriginWac</th>\n",
       "      <th>Dest</th>\n",
       "      <th>DestWac</th>\n",
       "      <th>Miles</th>\n",
       "      <th>ContiguousUSA</th>\n",
       "      <th>NumTicketsOrdered</th>\n",
       "      <th>AirlineCompany</th>\n",
       "      <th>PricePerTicket</th>\n",
       "    </tr>\n",
       "  </thead>\n",
       "  <tbody>\n",
       "    <tr>\n",
       "      <th>0</th>\n",
       "      <td>1</td>\n",
       "      <td>1</td>\n",
       "      <td>PHL</td>\n",
       "      <td>23</td>\n",
       "      <td>LAX</td>\n",
       "      <td>91</td>\n",
       "      <td>2402.0</td>\n",
       "      <td>2</td>\n",
       "      <td>1.0</td>\n",
       "      <td>AA</td>\n",
       "      <td>672.87</td>\n",
       "    </tr>\n",
       "    <tr>\n",
       "      <th>1</th>\n",
       "      <td>1</td>\n",
       "      <td>1</td>\n",
       "      <td>PHL</td>\n",
       "      <td>23</td>\n",
       "      <td>LAX</td>\n",
       "      <td>91</td>\n",
       "      <td>2402.0</td>\n",
       "      <td>2</td>\n",
       "      <td>1.0</td>\n",
       "      <td>AA</td>\n",
       "      <td>367.68</td>\n",
       "    </tr>\n",
       "    <tr>\n",
       "      <th>2</th>\n",
       "      <td>1</td>\n",
       "      <td>1</td>\n",
       "      <td>PHL</td>\n",
       "      <td>23</td>\n",
       "      <td>LAX</td>\n",
       "      <td>91</td>\n",
       "      <td>2402.0</td>\n",
       "      <td>2</td>\n",
       "      <td>1.0</td>\n",
       "      <td>AA</td>\n",
       "      <td>417.94</td>\n",
       "    </tr>\n",
       "    <tr>\n",
       "      <th>3</th>\n",
       "      <td>1</td>\n",
       "      <td>1</td>\n",
       "      <td>PHL</td>\n",
       "      <td>23</td>\n",
       "      <td>LAX</td>\n",
       "      <td>91</td>\n",
       "      <td>2402.0</td>\n",
       "      <td>2</td>\n",
       "      <td>1.0</td>\n",
       "      <td>AA</td>\n",
       "      <td>247.10</td>\n",
       "    </tr>\n",
       "    <tr>\n",
       "      <th>4</th>\n",
       "      <td>1</td>\n",
       "      <td>1</td>\n",
       "      <td>PHL</td>\n",
       "      <td>23</td>\n",
       "      <td>LAX</td>\n",
       "      <td>91</td>\n",
       "      <td>2402.0</td>\n",
       "      <td>2</td>\n",
       "      <td>1.0</td>\n",
       "      <td>AA</td>\n",
       "      <td>276.35</td>\n",
       "    </tr>\n",
       "  </tbody>\n",
       "</table>\n",
       "</div>"
      ],
      "text/plain": [
       "   MktCoupons  Quarter Origin  OriginWac Dest  DestWac   Miles  ContiguousUSA  \\\n",
       "0           1        1    PHL         23  LAX       91  2402.0              2   \n",
       "1           1        1    PHL         23  LAX       91  2402.0              2   \n",
       "2           1        1    PHL         23  LAX       91  2402.0              2   \n",
       "3           1        1    PHL         23  LAX       91  2402.0              2   \n",
       "4           1        1    PHL         23  LAX       91  2402.0              2   \n",
       "\n",
       "   NumTicketsOrdered AirlineCompany  PricePerTicket  \n",
       "0                1.0             AA          672.87  \n",
       "1                1.0             AA          367.68  \n",
       "2                1.0             AA          417.94  \n",
       "3                1.0             AA          247.10  \n",
       "4                1.0             AA          276.35  "
      ]
     },
     "execution_count": 16,
     "metadata": {},
     "output_type": "execute_result"
    }
   ],
   "source": [
    "CF.head()     # both ItinID and MktID were unique values"
   ]
  },
  {
   "cell_type": "code",
   "execution_count": 17,
   "id": "aea0e913",
   "metadata": {},
   "outputs": [
    {
     "data": {
      "text/plain": [
       "(9534417, 11)"
      ]
     },
     "execution_count": 17,
     "metadata": {},
     "output_type": "execute_result"
    }
   ],
   "source": [
    "CF.shape"
   ]
  },
  {
   "cell_type": "code",
   "execution_count": 18,
   "id": "d6f79683",
   "metadata": {},
   "outputs": [
    {
     "data": {
      "text/html": [
       "<div>\n",
       "<style scoped>\n",
       "    .dataframe tbody tr th:only-of-type {\n",
       "        vertical-align: middle;\n",
       "    }\n",
       "\n",
       "    .dataframe tbody tr th {\n",
       "        vertical-align: top;\n",
       "    }\n",
       "\n",
       "    .dataframe thead th {\n",
       "        text-align: right;\n",
       "    }\n",
       "</style>\n",
       "<table border=\"1\" class=\"dataframe\">\n",
       "  <thead>\n",
       "    <tr style=\"text-align: right;\">\n",
       "      <th>AirlineCompany</th>\n",
       "      <th>AA</th>\n",
       "      <th>AS</th>\n",
       "      <th>B6</th>\n",
       "      <th>DL</th>\n",
       "      <th>F9</th>\n",
       "      <th>G4</th>\n",
       "      <th>HA</th>\n",
       "      <th>NK</th>\n",
       "      <th>SY</th>\n",
       "      <th>UA</th>\n",
       "      <th>VX</th>\n",
       "      <th>WN</th>\n",
       "    </tr>\n",
       "    <tr>\n",
       "      <th>Quarter</th>\n",
       "      <th></th>\n",
       "      <th></th>\n",
       "      <th></th>\n",
       "      <th></th>\n",
       "      <th></th>\n",
       "      <th></th>\n",
       "      <th></th>\n",
       "      <th></th>\n",
       "      <th></th>\n",
       "      <th></th>\n",
       "      <th></th>\n",
       "      <th></th>\n",
       "    </tr>\n",
       "  </thead>\n",
       "  <tbody>\n",
       "    <tr>\n",
       "      <th>1</th>\n",
       "      <td>345507</td>\n",
       "      <td>109404</td>\n",
       "      <td>159910</td>\n",
       "      <td>401349</td>\n",
       "      <td>55847</td>\n",
       "      <td>92456</td>\n",
       "      <td>29203</td>\n",
       "      <td>67009</td>\n",
       "      <td>11495</td>\n",
       "      <td>304514</td>\n",
       "      <td>29799</td>\n",
       "      <td>537363</td>\n",
       "    </tr>\n",
       "    <tr>\n",
       "      <th>2</th>\n",
       "      <td>371469</td>\n",
       "      <td>182166</td>\n",
       "      <td>180664</td>\n",
       "      <td>467475</td>\n",
       "      <td>78930</td>\n",
       "      <td>86264</td>\n",
       "      <td>31734</td>\n",
       "      <td>99896</td>\n",
       "      <td>14410</td>\n",
       "      <td>375483</td>\n",
       "      <td>0</td>\n",
       "      <td>620895</td>\n",
       "    </tr>\n",
       "    <tr>\n",
       "      <th>3</th>\n",
       "      <td>342521</td>\n",
       "      <td>164494</td>\n",
       "      <td>172332</td>\n",
       "      <td>436236</td>\n",
       "      <td>62525</td>\n",
       "      <td>81837</td>\n",
       "      <td>30230</td>\n",
       "      <td>94121</td>\n",
       "      <td>16027</td>\n",
       "      <td>354012</td>\n",
       "      <td>0</td>\n",
       "      <td>544365</td>\n",
       "    </tr>\n",
       "    <tr>\n",
       "      <th>4</th>\n",
       "      <td>401521</td>\n",
       "      <td>166791</td>\n",
       "      <td>203205</td>\n",
       "      <td>466379</td>\n",
       "      <td>56246</td>\n",
       "      <td>124401</td>\n",
       "      <td>32282</td>\n",
       "      <td>89693</td>\n",
       "      <td>21474</td>\n",
       "      <td>381853</td>\n",
       "      <td>0</td>\n",
       "      <td>638630</td>\n",
       "    </tr>\n",
       "  </tbody>\n",
       "</table>\n",
       "</div>"
      ],
      "text/plain": [
       "AirlineCompany      AA      AS      B6      DL     F9      G4     HA     NK  \\\n",
       "Quarter                                                                       \n",
       "1               345507  109404  159910  401349  55847   92456  29203  67009   \n",
       "2               371469  182166  180664  467475  78930   86264  31734  99896   \n",
       "3               342521  164494  172332  436236  62525   81837  30230  94121   \n",
       "4               401521  166791  203205  466379  56246  124401  32282  89693   \n",
       "\n",
       "AirlineCompany     SY      UA     VX      WN  \n",
       "Quarter                                       \n",
       "1               11495  304514  29799  537363  \n",
       "2               14410  375483      0  620895  \n",
       "3               16027  354012      0  544365  \n",
       "4               21474  381853      0  638630  "
      ]
     },
     "execution_count": 18,
     "metadata": {},
     "output_type": "execute_result"
    }
   ],
   "source": [
    "pd.crosstab(CF['Quarter'],CF['AirlineCompany'])      #number of flights per quarter per company"
   ]
  },
  {
   "cell_type": "code",
   "execution_count": 19,
   "id": "037901c5",
   "metadata": {},
   "outputs": [
    {
     "data": {
      "text/plain": [
       "(array([2083873., 1771439., 1415862.,  716111.,   63406., 2341253.,\n",
       "         253548.,  384958.,  123449.,  380518.]),\n",
       " array([ 0. ,  1.1,  2.2,  3.3,  4.4,  5.5,  6.6,  7.7,  8.8,  9.9, 11. ]),\n",
       " <BarContainer object of 10 artists>)"
      ]
     },
     "execution_count": 19,
     "metadata": {},
     "output_type": "execute_result"
    },
    {
     "data": {
      "image/png": "[encoded data removed]",
      "text/plain": [
       "<Figure size 432x288 with 1 Axes>"
      ]
     },
     "metadata": {
      "needs_background": "light"
     },
     "output_type": "display_data"
    }
   ],
   "source": [
    "plt.hist(CF['AirlineCompany'])       #Airline WN sold most of the tickests"
   ]
  },
  {
   "cell_type": "code",
   "execution_count": 20,
   "id": "6d3a73f9",
   "metadata": {},
   "outputs": [
    {
     "data": {
      "text/html": [
       "<div>\n",
       "<style scoped>\n",
       "    .dataframe tbody tr th:only-of-type {\n",
       "        vertical-align: middle;\n",
       "    }\n",
       "\n",
       "    .dataframe tbody tr th {\n",
       "        vertical-align: top;\n",
       "    }\n",
       "\n",
       "    .dataframe thead th {\n",
       "        text-align: right;\n",
       "    }\n",
       "</style>\n",
       "<table border=\"1\" class=\"dataframe\">\n",
       "  <thead>\n",
       "    <tr style=\"text-align: right;\">\n",
       "      <th>AirlineCompany</th>\n",
       "      <th>AA</th>\n",
       "      <th>AS</th>\n",
       "      <th>B6</th>\n",
       "      <th>DL</th>\n",
       "      <th>F9</th>\n",
       "      <th>G4</th>\n",
       "      <th>HA</th>\n",
       "      <th>NK</th>\n",
       "      <th>SY</th>\n",
       "      <th>UA</th>\n",
       "      <th>VX</th>\n",
       "      <th>WN</th>\n",
       "    </tr>\n",
       "    <tr>\n",
       "      <th>NumTicketsOrdered</th>\n",
       "      <th></th>\n",
       "      <th></th>\n",
       "      <th></th>\n",
       "      <th></th>\n",
       "      <th></th>\n",
       "      <th></th>\n",
       "      <th></th>\n",
       "      <th></th>\n",
       "      <th></th>\n",
       "      <th></th>\n",
       "      <th></th>\n",
       "      <th></th>\n",
       "    </tr>\n",
       "  </thead>\n",
       "  <tbody>\n",
       "    <tr>\n",
       "      <th>1.0</th>\n",
       "      <td>930084</td>\n",
       "      <td>385295</td>\n",
       "      <td>377920</td>\n",
       "      <td>1100594</td>\n",
       "      <td>91840</td>\n",
       "      <td>191326</td>\n",
       "      <td>75114</td>\n",
       "      <td>188184</td>\n",
       "      <td>35759</td>\n",
       "      <td>942705</td>\n",
       "      <td>17769</td>\n",
       "      <td>1413449</td>\n",
       "    </tr>\n",
       "    <tr>\n",
       "      <th>2.0</th>\n",
       "      <td>203074</td>\n",
       "      <td>94489</td>\n",
       "      <td>125787</td>\n",
       "      <td>274894</td>\n",
       "      <td>57389</td>\n",
       "      <td>74748</td>\n",
       "      <td>18850</td>\n",
       "      <td>61458</td>\n",
       "      <td>10526</td>\n",
       "      <td>189157</td>\n",
       "      <td>4799</td>\n",
       "      <td>331646</td>\n",
       "    </tr>\n",
       "    <tr>\n",
       "      <th>3.0</th>\n",
       "      <td>96798</td>\n",
       "      <td>44201</td>\n",
       "      <td>63744</td>\n",
       "      <td>130864</td>\n",
       "      <td>29271</td>\n",
       "      <td>38600</td>\n",
       "      <td>8696</td>\n",
       "      <td>31744</td>\n",
       "      <td>5225</td>\n",
       "      <td>87112</td>\n",
       "      <td>2277</td>\n",
       "      <td>163143</td>\n",
       "    </tr>\n",
       "    <tr>\n",
       "      <th>4.0</th>\n",
       "      <td>57788</td>\n",
       "      <td>25406</td>\n",
       "      <td>38385</td>\n",
       "      <td>75286</td>\n",
       "      <td>22306</td>\n",
       "      <td>23184</td>\n",
       "      <td>5229</td>\n",
       "      <td>18918</td>\n",
       "      <td>2995</td>\n",
       "      <td>51565</td>\n",
       "      <td>1328</td>\n",
       "      <td>100530</td>\n",
       "    </tr>\n",
       "    <tr>\n",
       "      <th>5.0</th>\n",
       "      <td>38063</td>\n",
       "      <td>17023</td>\n",
       "      <td>25328</td>\n",
       "      <td>48574</td>\n",
       "      <td>13261</td>\n",
       "      <td>15389</td>\n",
       "      <td>3342</td>\n",
       "      <td>12354</td>\n",
       "      <td>2046</td>\n",
       "      <td>33689</td>\n",
       "      <td>854</td>\n",
       "      <td>69519</td>\n",
       "    </tr>\n",
       "    <tr>\n",
       "      <th>6.0</th>\n",
       "      <td>27204</td>\n",
       "      <td>11916</td>\n",
       "      <td>18258</td>\n",
       "      <td>33479</td>\n",
       "      <td>9530</td>\n",
       "      <td>10383</td>\n",
       "      <td>2307</td>\n",
       "      <td>8751</td>\n",
       "      <td>1387</td>\n",
       "      <td>23598</td>\n",
       "      <td>588</td>\n",
       "      <td>50765</td>\n",
       "    </tr>\n",
       "    <tr>\n",
       "      <th>7.0</th>\n",
       "      <td>20432</td>\n",
       "      <td>8570</td>\n",
       "      <td>13040</td>\n",
       "      <td>24087</td>\n",
       "      <td>6460</td>\n",
       "      <td>7514</td>\n",
       "      <td>1791</td>\n",
       "      <td>6521</td>\n",
       "      <td>1109</td>\n",
       "      <td>17563</td>\n",
       "      <td>476</td>\n",
       "      <td>38694</td>\n",
       "    </tr>\n",
       "    <tr>\n",
       "      <th>8.0</th>\n",
       "      <td>16127</td>\n",
       "      <td>6893</td>\n",
       "      <td>10271</td>\n",
       "      <td>17827</td>\n",
       "      <td>4697</td>\n",
       "      <td>5469</td>\n",
       "      <td>1383</td>\n",
       "      <td>4656</td>\n",
       "      <td>835</td>\n",
       "      <td>13747</td>\n",
       "      <td>339</td>\n",
       "      <td>30849</td>\n",
       "    </tr>\n",
       "    <tr>\n",
       "      <th>9.0</th>\n",
       "      <td>13334</td>\n",
       "      <td>5399</td>\n",
       "      <td>8151</td>\n",
       "      <td>13470</td>\n",
       "      <td>3814</td>\n",
       "      <td>4326</td>\n",
       "      <td>1146</td>\n",
       "      <td>3668</td>\n",
       "      <td>720</td>\n",
       "      <td>10716</td>\n",
       "      <td>283</td>\n",
       "      <td>24919</td>\n",
       "    </tr>\n",
       "    <tr>\n",
       "      <th>10.0</th>\n",
       "      <td>10382</td>\n",
       "      <td>4258</td>\n",
       "      <td>6395</td>\n",
       "      <td>10475</td>\n",
       "      <td>3033</td>\n",
       "      <td>3146</td>\n",
       "      <td>871</td>\n",
       "      <td>2792</td>\n",
       "      <td>523</td>\n",
       "      <td>8795</td>\n",
       "      <td>211</td>\n",
       "      <td>20021</td>\n",
       "    </tr>\n",
       "    <tr>\n",
       "      <th>11.0</th>\n",
       "      <td>8753</td>\n",
       "      <td>3543</td>\n",
       "      <td>5355</td>\n",
       "      <td>8510</td>\n",
       "      <td>2375</td>\n",
       "      <td>2400</td>\n",
       "      <td>789</td>\n",
       "      <td>2352</td>\n",
       "      <td>355</td>\n",
       "      <td>7089</td>\n",
       "      <td>168</td>\n",
       "      <td>17292</td>\n",
       "    </tr>\n",
       "    <tr>\n",
       "      <th>12.0</th>\n",
       "      <td>7023</td>\n",
       "      <td>2916</td>\n",
       "      <td>4478</td>\n",
       "      <td>6837</td>\n",
       "      <td>1895</td>\n",
       "      <td>1893</td>\n",
       "      <td>680</td>\n",
       "      <td>1835</td>\n",
       "      <td>354</td>\n",
       "      <td>5950</td>\n",
       "      <td>135</td>\n",
       "      <td>14483</td>\n",
       "    </tr>\n",
       "    <tr>\n",
       "      <th>13.0</th>\n",
       "      <td>6108</td>\n",
       "      <td>2445</td>\n",
       "      <td>3860</td>\n",
       "      <td>5640</td>\n",
       "      <td>1536</td>\n",
       "      <td>1538</td>\n",
       "      <td>568</td>\n",
       "      <td>1511</td>\n",
       "      <td>320</td>\n",
       "      <td>4807</td>\n",
       "      <td>94</td>\n",
       "      <td>12538</td>\n",
       "    </tr>\n",
       "    <tr>\n",
       "      <th>14.0</th>\n",
       "      <td>5375</td>\n",
       "      <td>2120</td>\n",
       "      <td>3172</td>\n",
       "      <td>4507</td>\n",
       "      <td>1271</td>\n",
       "      <td>1189</td>\n",
       "      <td>502</td>\n",
       "      <td>1297</td>\n",
       "      <td>277</td>\n",
       "      <td>3974</td>\n",
       "      <td>90</td>\n",
       "      <td>10817</td>\n",
       "    </tr>\n",
       "    <tr>\n",
       "      <th>15.0</th>\n",
       "      <td>4580</td>\n",
       "      <td>1838</td>\n",
       "      <td>2808</td>\n",
       "      <td>3908</td>\n",
       "      <td>1055</td>\n",
       "      <td>981</td>\n",
       "      <td>453</td>\n",
       "      <td>1076</td>\n",
       "      <td>229</td>\n",
       "      <td>3544</td>\n",
       "      <td>97</td>\n",
       "      <td>9582</td>\n",
       "    </tr>\n",
       "    <tr>\n",
       "      <th>16.0</th>\n",
       "      <td>3899</td>\n",
       "      <td>1611</td>\n",
       "      <td>2399</td>\n",
       "      <td>3254</td>\n",
       "      <td>1053</td>\n",
       "      <td>882</td>\n",
       "      <td>420</td>\n",
       "      <td>906</td>\n",
       "      <td>210</td>\n",
       "      <td>3077</td>\n",
       "      <td>77</td>\n",
       "      <td>8263</td>\n",
       "    </tr>\n",
       "    <tr>\n",
       "      <th>17.0</th>\n",
       "      <td>3591</td>\n",
       "      <td>1404</td>\n",
       "      <td>2039</td>\n",
       "      <td>2798</td>\n",
       "      <td>827</td>\n",
       "      <td>633</td>\n",
       "      <td>363</td>\n",
       "      <td>836</td>\n",
       "      <td>178</td>\n",
       "      <td>2585</td>\n",
       "      <td>58</td>\n",
       "      <td>7079</td>\n",
       "    </tr>\n",
       "    <tr>\n",
       "      <th>18.0</th>\n",
       "      <td>3093</td>\n",
       "      <td>1300</td>\n",
       "      <td>1785</td>\n",
       "      <td>2533</td>\n",
       "      <td>754</td>\n",
       "      <td>561</td>\n",
       "      <td>356</td>\n",
       "      <td>683</td>\n",
       "      <td>127</td>\n",
       "      <td>2259</td>\n",
       "      <td>55</td>\n",
       "      <td>6479</td>\n",
       "    </tr>\n",
       "    <tr>\n",
       "      <th>19.0</th>\n",
       "      <td>2805</td>\n",
       "      <td>1209</td>\n",
       "      <td>1564</td>\n",
       "      <td>2089</td>\n",
       "      <td>644</td>\n",
       "      <td>404</td>\n",
       "      <td>298</td>\n",
       "      <td>582</td>\n",
       "      <td>112</td>\n",
       "      <td>2087</td>\n",
       "      <td>61</td>\n",
       "      <td>5981</td>\n",
       "    </tr>\n",
       "    <tr>\n",
       "      <th>20.0</th>\n",
       "      <td>2505</td>\n",
       "      <td>1019</td>\n",
       "      <td>1372</td>\n",
       "      <td>1813</td>\n",
       "      <td>537</td>\n",
       "      <td>392</td>\n",
       "      <td>291</td>\n",
       "      <td>595</td>\n",
       "      <td>119</td>\n",
       "      <td>1843</td>\n",
       "      <td>40</td>\n",
       "      <td>5204</td>\n",
       "    </tr>\n",
       "  </tbody>\n",
       "</table>\n",
       "</div>"
      ],
      "text/plain": [
       "AirlineCompany         AA      AS      B6       DL     F9      G4     HA  \\\n",
       "NumTicketsOrdered                                                          \n",
       "1.0                930084  385295  377920  1100594  91840  191326  75114   \n",
       "2.0                203074   94489  125787   274894  57389   74748  18850   \n",
       "3.0                 96798   44201   63744   130864  29271   38600   8696   \n",
       "4.0                 57788   25406   38385    75286  22306   23184   5229   \n",
       "5.0                 38063   17023   25328    48574  13261   15389   3342   \n",
       "6.0                 27204   11916   18258    33479   9530   10383   2307   \n",
       "7.0                 20432    8570   13040    24087   6460    7514   1791   \n",
       "8.0                 16127    6893   10271    17827   4697    5469   1383   \n",
       "9.0                 13334    5399    8151    13470   3814    4326   1146   \n",
       "10.0                10382    4258    6395    10475   3033    3146    871   \n",
       "11.0                 8753    3543    5355     8510   2375    2400    789   \n",
       "12.0                 7023    2916    4478     6837   1895    1893    680   \n",
       "13.0                 6108    2445    3860     5640   1536    1538    568   \n",
       "14.0                 5375    2120    3172     4507   1271    1189    502   \n",
       "15.0                 4580    1838    2808     3908   1055     981    453   \n",
       "16.0                 3899    1611    2399     3254   1053     882    420   \n",
       "17.0                 3591    1404    2039     2798    827     633    363   \n",
       "18.0                 3093    1300    1785     2533    754     561    356   \n",
       "19.0                 2805    1209    1564     2089    644     404    298   \n",
       "20.0                 2505    1019    1372     1813    537     392    291   \n",
       "\n",
       "AirlineCompany         NK     SY      UA     VX       WN  \n",
       "NumTicketsOrdered                                         \n",
       "1.0                188184  35759  942705  17769  1413449  \n",
       "2.0                 61458  10526  189157   4799   331646  \n",
       "3.0                 31744   5225   87112   2277   163143  \n",
       "4.0                 18918   2995   51565   1328   100530  \n",
       "5.0                 12354   2046   33689    854    69519  \n",
       "6.0                  8751   1387   23598    588    50765  \n",
       "7.0                  6521   1109   17563    476    38694  \n",
       "8.0                  4656    835   13747    339    30849  \n",
       "9.0                  3668    720   10716    283    24919  \n",
       "10.0                 2792    523    8795    211    20021  \n",
       "11.0                 2352    355    7089    168    17292  \n",
       "12.0                 1835    354    5950    135    14483  \n",
       "13.0                 1511    320    4807     94    12538  \n",
       "14.0                 1297    277    3974     90    10817  \n",
       "15.0                 1076    229    3544     97     9582  \n",
       "16.0                  906    210    3077     77     8263  \n",
       "17.0                  836    178    2585     58     7079  \n",
       "18.0                  683    127    2259     55     6479  \n",
       "19.0                  582    112    2087     61     5981  \n",
       "20.0                  595    119    1843     40     5204  "
      ]
     },
     "execution_count": 20,
     "metadata": {},
     "output_type": "execute_result"
    }
   ],
   "source": [
    "pd.crosstab(CF['NumTicketsOrdered'],CF['AirlineCompany']) "
   ]
  },
  {
   "cell_type": "code",
   "execution_count": 21,
   "id": "89403467",
   "metadata": {},
   "outputs": [
    {
     "data": {
      "text/plain": [
       "array([1, 2, 3], dtype=int64)"
      ]
     },
     "execution_count": 21,
     "metadata": {},
     "output_type": "execute_result"
    }
   ],
   "source": [
    "CF.MktCoupons.unique()"
   ]
  },
  {
   "cell_type": "code",
   "execution_count": 22,
   "id": "8728d55c",
   "metadata": {},
   "outputs": [
    {
     "data": {
      "text/html": [
       "<div>\n",
       "<style scoped>\n",
       "    .dataframe tbody tr th:only-of-type {\n",
       "        vertical-align: middle;\n",
       "    }\n",
       "\n",
       "    .dataframe tbody tr th {\n",
       "        vertical-align: top;\n",
       "    }\n",
       "\n",
       "    .dataframe thead th {\n",
       "        text-align: right;\n",
       "    }\n",
       "</style>\n",
       "<table border=\"1\" class=\"dataframe\">\n",
       "  <thead>\n",
       "    <tr style=\"text-align: right;\">\n",
       "      <th>Miles</th>\n",
       "      <th>11.0</th>\n",
       "      <th>30.0</th>\n",
       "      <th>31.0</th>\n",
       "      <th>41.0</th>\n",
       "      <th>47.0</th>\n",
       "      <th>54.0</th>\n",
       "      <th>67.0</th>\n",
       "      <th>68.0</th>\n",
       "      <th>70.0</th>\n",
       "      <th>73.0</th>\n",
       "      <th>...</th>\n",
       "      <th>4932.0</th>\n",
       "      <th>4946.0</th>\n",
       "      <th>4953.0</th>\n",
       "      <th>4962.0</th>\n",
       "      <th>4976.0</th>\n",
       "      <th>4983.0</th>\n",
       "      <th>4992.0</th>\n",
       "      <th>5039.0</th>\n",
       "      <th>5071.0</th>\n",
       "      <th>5095.0</th>\n",
       "    </tr>\n",
       "    <tr>\n",
       "      <th>Quarter</th>\n",
       "      <th></th>\n",
       "      <th></th>\n",
       "      <th></th>\n",
       "      <th></th>\n",
       "      <th></th>\n",
       "      <th></th>\n",
       "      <th></th>\n",
       "      <th></th>\n",
       "      <th></th>\n",
       "      <th></th>\n",
       "      <th></th>\n",
       "      <th></th>\n",
       "      <th></th>\n",
       "      <th></th>\n",
       "      <th></th>\n",
       "      <th></th>\n",
       "      <th></th>\n",
       "      <th></th>\n",
       "      <th></th>\n",
       "      <th></th>\n",
       "      <th></th>\n",
       "    </tr>\n",
       "  </thead>\n",
       "  <tbody>\n",
       "    <tr>\n",
       "      <th>1</th>\n",
       "      <td>7</td>\n",
       "      <td>0</td>\n",
       "      <td>21</td>\n",
       "      <td>0</td>\n",
       "      <td>12</td>\n",
       "      <td>0</td>\n",
       "      <td>1</td>\n",
       "      <td>294</td>\n",
       "      <td>0</td>\n",
       "      <td>0</td>\n",
       "      <td>...</td>\n",
       "      <td>112</td>\n",
       "      <td>1</td>\n",
       "      <td>5</td>\n",
       "      <td>817</td>\n",
       "      <td>36</td>\n",
       "      <td>1018</td>\n",
       "      <td>0</td>\n",
       "      <td>0</td>\n",
       "      <td>57</td>\n",
       "      <td>56</td>\n",
       "    </tr>\n",
       "    <tr>\n",
       "      <th>2</th>\n",
       "      <td>0</td>\n",
       "      <td>5</td>\n",
       "      <td>8</td>\n",
       "      <td>25</td>\n",
       "      <td>0</td>\n",
       "      <td>0</td>\n",
       "      <td>0</td>\n",
       "      <td>375</td>\n",
       "      <td>35</td>\n",
       "      <td>10</td>\n",
       "      <td>...</td>\n",
       "      <td>85</td>\n",
       "      <td>0</td>\n",
       "      <td>9</td>\n",
       "      <td>870</td>\n",
       "      <td>43</td>\n",
       "      <td>931</td>\n",
       "      <td>1</td>\n",
       "      <td>4</td>\n",
       "      <td>95</td>\n",
       "      <td>74</td>\n",
       "    </tr>\n",
       "    <tr>\n",
       "      <th>3</th>\n",
       "      <td>0</td>\n",
       "      <td>0</td>\n",
       "      <td>7</td>\n",
       "      <td>33</td>\n",
       "      <td>0</td>\n",
       "      <td>1</td>\n",
       "      <td>0</td>\n",
       "      <td>369</td>\n",
       "      <td>220</td>\n",
       "      <td>0</td>\n",
       "      <td>...</td>\n",
       "      <td>132</td>\n",
       "      <td>2</td>\n",
       "      <td>10</td>\n",
       "      <td>966</td>\n",
       "      <td>66</td>\n",
       "      <td>1050</td>\n",
       "      <td>1</td>\n",
       "      <td>0</td>\n",
       "      <td>64</td>\n",
       "      <td>19</td>\n",
       "    </tr>\n",
       "    <tr>\n",
       "      <th>4</th>\n",
       "      <td>0</td>\n",
       "      <td>0</td>\n",
       "      <td>10</td>\n",
       "      <td>0</td>\n",
       "      <td>0</td>\n",
       "      <td>0</td>\n",
       "      <td>0</td>\n",
       "      <td>422</td>\n",
       "      <td>0</td>\n",
       "      <td>0</td>\n",
       "      <td>...</td>\n",
       "      <td>83</td>\n",
       "      <td>1</td>\n",
       "      <td>15</td>\n",
       "      <td>853</td>\n",
       "      <td>17</td>\n",
       "      <td>1101</td>\n",
       "      <td>1</td>\n",
       "      <td>0</td>\n",
       "      <td>86</td>\n",
       "      <td>27</td>\n",
       "    </tr>\n",
       "  </tbody>\n",
       "</table>\n",
       "<p>4 rows × 2117 columns</p>\n",
       "</div>"
      ],
      "text/plain": [
       "Miles    11.0    30.0    31.0    41.0    47.0    54.0    67.0    68.0    \\\n",
       "Quarter                                                                   \n",
       "1             7       0      21       0      12       0       1     294   \n",
       "2             0       5       8      25       0       0       0     375   \n",
       "3             0       0       7      33       0       1       0     369   \n",
       "4             0       0      10       0       0       0       0     422   \n",
       "\n",
       "Miles    70.0    73.0    ...  4932.0  4946.0  4953.0  4962.0  4976.0  4983.0  \\\n",
       "Quarter                  ...                                                   \n",
       "1             0       0  ...     112       1       5     817      36    1018   \n",
       "2            35      10  ...      85       0       9     870      43     931   \n",
       "3           220       0  ...     132       2      10     966      66    1050   \n",
       "4             0       0  ...      83       1      15     853      17    1101   \n",
       "\n",
       "Miles    4992.0  5039.0  5071.0  5095.0  \n",
       "Quarter                                  \n",
       "1             0       0      57      56  \n",
       "2             1       4      95      74  \n",
       "3             1       0      64      19  \n",
       "4             1       0      86      27  \n",
       "\n",
       "[4 rows x 2117 columns]"
      ]
     },
     "execution_count": 22,
     "metadata": {},
     "output_type": "execute_result"
    }
   ],
   "source": [
    "pd.crosstab(CF['Quarter'],CF['Miles']) "
   ]
  },
  {
   "cell_type": "code",
   "execution_count": 23,
   "id": "7a0f3980",
   "metadata": {},
   "outputs": [
    {
     "data": {
      "text/plain": [
       "WN    2341253\n",
       "DL    1771439\n",
       "AA    1461018\n",
       "UA    1415862\n",
       "B6     716111\n",
       "AS     622855\n",
       "G4     384958\n",
       "NK     350719\n",
       "F9     253548\n",
       "HA     123449\n",
       "SY      63406\n",
       "VX      29799\n",
       "Name: AirlineCompany, dtype: int64"
      ]
     },
     "execution_count": 23,
     "metadata": {},
     "output_type": "execute_result"
    }
   ],
   "source": [
    "CF['AirlineCompany'].value_counts()       "
   ]
  },
  {
   "cell_type": "code",
   "execution_count": 24,
   "id": "284db25f",
   "metadata": {},
   "outputs": [
    {
     "data": {
      "text/plain": [
       "<seaborn.axisgrid.FacetGrid at 0x216b74e3f40>"
      ]
     },
     "execution_count": 24,
     "metadata": {},
     "output_type": "execute_result"
    },
    {
     "data": {
      "image/png": "[encoded data removed]",
      "text/plain": [
       "<Figure size 360x360 with 1 Axes>"
      ]
     },
     "metadata": {
      "needs_background": "light"
     },
     "output_type": "display_data"
    }
   ],
   "source": [
    "x1 = CF['AirlineCompany']\n",
    "sns.displot(x1)                                        #to plot the frequency of flights by company"
   ]
  },
  {
   "cell_type": "code",
   "execution_count": 25,
   "id": "6247ea23",
   "metadata": {},
   "outputs": [
    {
     "data": {
      "text/html": [
       "<div>\n",
       "<style scoped>\n",
       "    .dataframe tbody tr th:only-of-type {\n",
       "        vertical-align: middle;\n",
       "    }\n",
       "\n",
       "    .dataframe tbody tr th {\n",
       "        vertical-align: top;\n",
       "    }\n",
       "\n",
       "    .dataframe thead th {\n",
       "        text-align: right;\n",
       "    }\n",
       "</style>\n",
       "<table border=\"1\" class=\"dataframe\">\n",
       "  <thead>\n",
       "    <tr style=\"text-align: right;\">\n",
       "      <th></th>\n",
       "      <th>MktCoupons</th>\n",
       "      <th>Quarter</th>\n",
       "      <th>Origin</th>\n",
       "      <th>OriginWac</th>\n",
       "      <th>Dest</th>\n",
       "      <th>DestWac</th>\n",
       "      <th>Miles</th>\n",
       "      <th>ContiguousUSA</th>\n",
       "      <th>NumTicketsOrdered</th>\n",
       "      <th>AirlineCompany</th>\n",
       "      <th>PricePerTicket</th>\n",
       "    </tr>\n",
       "  </thead>\n",
       "  <tbody>\n",
       "    <tr>\n",
       "      <th>0</th>\n",
       "      <td>1</td>\n",
       "      <td>1</td>\n",
       "      <td>PHL</td>\n",
       "      <td>23</td>\n",
       "      <td>LAX</td>\n",
       "      <td>91</td>\n",
       "      <td>2402.0</td>\n",
       "      <td>2</td>\n",
       "      <td>1.0</td>\n",
       "      <td>AA</td>\n",
       "      <td>672.87</td>\n",
       "    </tr>\n",
       "    <tr>\n",
       "      <th>1</th>\n",
       "      <td>1</td>\n",
       "      <td>1</td>\n",
       "      <td>PHL</td>\n",
       "      <td>23</td>\n",
       "      <td>LAX</td>\n",
       "      <td>91</td>\n",
       "      <td>2402.0</td>\n",
       "      <td>2</td>\n",
       "      <td>1.0</td>\n",
       "      <td>AA</td>\n",
       "      <td>367.68</td>\n",
       "    </tr>\n",
       "    <tr>\n",
       "      <th>2</th>\n",
       "      <td>1</td>\n",
       "      <td>1</td>\n",
       "      <td>PHL</td>\n",
       "      <td>23</td>\n",
       "      <td>LAX</td>\n",
       "      <td>91</td>\n",
       "      <td>2402.0</td>\n",
       "      <td>2</td>\n",
       "      <td>1.0</td>\n",
       "      <td>AA</td>\n",
       "      <td>417.94</td>\n",
       "    </tr>\n",
       "    <tr>\n",
       "      <th>3</th>\n",
       "      <td>1</td>\n",
       "      <td>1</td>\n",
       "      <td>PHL</td>\n",
       "      <td>23</td>\n",
       "      <td>LAX</td>\n",
       "      <td>91</td>\n",
       "      <td>2402.0</td>\n",
       "      <td>2</td>\n",
       "      <td>1.0</td>\n",
       "      <td>AA</td>\n",
       "      <td>247.10</td>\n",
       "    </tr>\n",
       "    <tr>\n",
       "      <th>4</th>\n",
       "      <td>1</td>\n",
       "      <td>1</td>\n",
       "      <td>PHL</td>\n",
       "      <td>23</td>\n",
       "      <td>LAX</td>\n",
       "      <td>91</td>\n",
       "      <td>2402.0</td>\n",
       "      <td>2</td>\n",
       "      <td>1.0</td>\n",
       "      <td>AA</td>\n",
       "      <td>276.35</td>\n",
       "    </tr>\n",
       "  </tbody>\n",
       "</table>\n",
       "</div>"
      ],
      "text/plain": [
       "   MktCoupons  Quarter Origin  OriginWac Dest  DestWac   Miles  ContiguousUSA  \\\n",
       "0           1        1    PHL         23  LAX       91  2402.0              2   \n",
       "1           1        1    PHL         23  LAX       91  2402.0              2   \n",
       "2           1        1    PHL         23  LAX       91  2402.0              2   \n",
       "3           1        1    PHL         23  LAX       91  2402.0              2   \n",
       "4           1        1    PHL         23  LAX       91  2402.0              2   \n",
       "\n",
       "   NumTicketsOrdered AirlineCompany  PricePerTicket  \n",
       "0                1.0             AA          672.87  \n",
       "1                1.0             AA          367.68  \n",
       "2                1.0             AA          417.94  \n",
       "3                1.0             AA          247.10  \n",
       "4                1.0             AA          276.35  "
      ]
     },
     "execution_count": 25,
     "metadata": {},
     "output_type": "execute_result"
    }
   ],
   "source": [
    "CF.head()"
   ]
  },
  {
   "cell_type": "code",
   "execution_count": 26,
   "id": "0db8dff7",
   "metadata": {},
   "outputs": [
    {
     "data": {
      "text/plain": [
       "NumTicketsOrdered\n",
       "1.0     256.097042\n",
       "2.0     214.610880\n",
       "3.0     198.785746\n",
       "4.0     189.159390\n",
       "5.0     183.751456\n",
       "6.0     180.023865\n",
       "7.0     177.396010\n",
       "8.0     175.059012\n",
       "9.0     173.278541\n",
       "10.0    172.290917\n",
       "11.0    171.305146\n",
       "12.0    170.024745\n",
       "13.0    169.188169\n",
       "14.0    169.452896\n",
       "15.0    169.119299\n",
       "16.0    166.083114\n",
       "17.0    166.443170\n",
       "18.0    164.578405\n",
       "19.0    166.654703\n",
       "20.0    165.261784\n",
       "Name: PricePerTicket, dtype: float64"
      ]
     },
     "execution_count": 26,
     "metadata": {},
     "output_type": "execute_result"
    }
   ],
   "source": [
    "CF1 = CF.groupby('NumTicketsOrdered')['PricePerTicket'].mean()\n",
    "CF1"
   ]
  },
  {
   "cell_type": "code",
   "execution_count": null,
   "id": "4bec0171",
   "metadata": {},
   "outputs": [],
   "source": []
  },
  {
   "cell_type": "code",
   "execution_count": 27,
   "id": "25cb92f1",
   "metadata": {},
   "outputs": [
    {
     "data": {
      "text/plain": [
       "<AxesSubplot:xlabel='Quarter', ylabel='count'>"
      ]
     },
     "execution_count": 27,
     "metadata": {},
     "output_type": "execute_result"
    },
    {
     "data": {
      "image/png": "[encoded data removed]",
      "text/plain": [
       "<Figure size 432x288 with 1 Axes>"
      ]
     },
     "metadata": {
      "needs_background": "light"
     },
     "output_type": "display_data"
    }
   ],
   "source": [
    "sns.countplot(x = 'Quarter', data = CF)                #To plot flights in each quarter"
   ]
  },
  {
   "cell_type": "code",
   "execution_count": 28,
   "id": "57324fcc",
   "metadata": {},
   "outputs": [
    {
     "data": {
      "text/plain": [
       "<AxesSubplot:xlabel='MktCoupons', ylabel='count'>"
      ]
     },
     "execution_count": 28,
     "metadata": {},
     "output_type": "execute_result"
    },
    {
     "data": {
      "image/png": "[encoded data removed]",
      "text/plain": [
       "<Figure size 432x288 with 1 Axes>"
      ]
     },
     "metadata": {
      "needs_background": "light"
     },
     "output_type": "display_data"
    }
   ],
   "source": [
    "sns.countplot(x = 'MktCoupons', data = CF)                       #coupons issued "
   ]
  },
  {
   "cell_type": "code",
   "execution_count": 29,
   "id": "511b6645",
   "metadata": {},
   "outputs": [
    {
     "data": {
      "text/plain": [
       "<AxesSubplot:xlabel='NumTicketsOrdered', ylabel='count'>"
      ]
     },
     "execution_count": 29,
     "metadata": {},
     "output_type": "execute_result"
    },
    {
     "data": {
      "image/png": "[encoded data removed]",
      "text/plain": [
       "<Figure size 432x288 with 1 Axes>"
      ]
     },
     "metadata": {
      "needs_background": "light"
     },
     "output_type": "display_data"
    }
   ],
   "source": [
    "sns.countplot(x = 'NumTicketsOrdered', data = CF)             #Shows the frequency of tickets sold."
   ]
  },
  {
   "cell_type": "code",
   "execution_count": 30,
   "id": "fa578ee3",
   "metadata": {},
   "outputs": [
    {
     "data": {
      "text/plain": [
       "<AxesSubplot:xlabel='AirlineCompany', ylabel='count'>"
      ]
     },
     "execution_count": 30,
     "metadata": {},
     "output_type": "execute_result"
    },
    {
     "data": {
      "image/png": "[encoded data removed]",
      "text/plain": [
       "<Figure size 432x288 with 1 Axes>"
      ]
     },
     "metadata": {
      "needs_background": "light"
     },
     "output_type": "display_data"
    }
   ],
   "source": [
    "sns.countplot(x = 'AirlineCompany', data = CF)                                  #Similar to the displot shown above. shows\n",
    "                                                                                # airline company and its frequency"
   ]
  },
  {
   "cell_type": "code",
   "execution_count": 31,
   "id": "38fe7a77",
   "metadata": {},
   "outputs": [
    {
     "data": {
      "text/html": [
       "<div>\n",
       "<style scoped>\n",
       "    .dataframe tbody tr th:only-of-type {\n",
       "        vertical-align: middle;\n",
       "    }\n",
       "\n",
       "    .dataframe tbody tr th {\n",
       "        vertical-align: top;\n",
       "    }\n",
       "\n",
       "    .dataframe thead th {\n",
       "        text-align: right;\n",
       "    }\n",
       "</style>\n",
       "<table border=\"1\" class=\"dataframe\">\n",
       "  <thead>\n",
       "    <tr style=\"text-align: right;\">\n",
       "      <th></th>\n",
       "      <th>MktCoupons</th>\n",
       "      <th>Quarter</th>\n",
       "      <th>Origin</th>\n",
       "      <th>OriginWac</th>\n",
       "      <th>Dest</th>\n",
       "      <th>DestWac</th>\n",
       "      <th>Miles</th>\n",
       "      <th>ContiguousUSA</th>\n",
       "      <th>NumTicketsOrdered</th>\n",
       "      <th>AirlineCompany</th>\n",
       "      <th>PricePerTicket</th>\n",
       "    </tr>\n",
       "  </thead>\n",
       "  <tbody>\n",
       "    <tr>\n",
       "      <th>0</th>\n",
       "      <td>1</td>\n",
       "      <td>1</td>\n",
       "      <td>PHL</td>\n",
       "      <td>23</td>\n",
       "      <td>LAX</td>\n",
       "      <td>91</td>\n",
       "      <td>2402.0</td>\n",
       "      <td>2</td>\n",
       "      <td>1.0</td>\n",
       "      <td>AA</td>\n",
       "      <td>672.87</td>\n",
       "    </tr>\n",
       "    <tr>\n",
       "      <th>1</th>\n",
       "      <td>1</td>\n",
       "      <td>1</td>\n",
       "      <td>PHL</td>\n",
       "      <td>23</td>\n",
       "      <td>LAX</td>\n",
       "      <td>91</td>\n",
       "      <td>2402.0</td>\n",
       "      <td>2</td>\n",
       "      <td>1.0</td>\n",
       "      <td>AA</td>\n",
       "      <td>367.68</td>\n",
       "    </tr>\n",
       "    <tr>\n",
       "      <th>2</th>\n",
       "      <td>1</td>\n",
       "      <td>1</td>\n",
       "      <td>PHL</td>\n",
       "      <td>23</td>\n",
       "      <td>LAX</td>\n",
       "      <td>91</td>\n",
       "      <td>2402.0</td>\n",
       "      <td>2</td>\n",
       "      <td>1.0</td>\n",
       "      <td>AA</td>\n",
       "      <td>417.94</td>\n",
       "    </tr>\n",
       "    <tr>\n",
       "      <th>3</th>\n",
       "      <td>1</td>\n",
       "      <td>1</td>\n",
       "      <td>PHL</td>\n",
       "      <td>23</td>\n",
       "      <td>LAX</td>\n",
       "      <td>91</td>\n",
       "      <td>2402.0</td>\n",
       "      <td>2</td>\n",
       "      <td>1.0</td>\n",
       "      <td>AA</td>\n",
       "      <td>247.10</td>\n",
       "    </tr>\n",
       "    <tr>\n",
       "      <th>4</th>\n",
       "      <td>1</td>\n",
       "      <td>1</td>\n",
       "      <td>PHL</td>\n",
       "      <td>23</td>\n",
       "      <td>LAX</td>\n",
       "      <td>91</td>\n",
       "      <td>2402.0</td>\n",
       "      <td>2</td>\n",
       "      <td>1.0</td>\n",
       "      <td>AA</td>\n",
       "      <td>276.35</td>\n",
       "    </tr>\n",
       "  </tbody>\n",
       "</table>\n",
       "</div>"
      ],
      "text/plain": [
       "   MktCoupons  Quarter Origin  OriginWac Dest  DestWac   Miles  ContiguousUSA  \\\n",
       "0           1        1    PHL         23  LAX       91  2402.0              2   \n",
       "1           1        1    PHL         23  LAX       91  2402.0              2   \n",
       "2           1        1    PHL         23  LAX       91  2402.0              2   \n",
       "3           1        1    PHL         23  LAX       91  2402.0              2   \n",
       "4           1        1    PHL         23  LAX       91  2402.0              2   \n",
       "\n",
       "   NumTicketsOrdered AirlineCompany  PricePerTicket  \n",
       "0                1.0             AA          672.87  \n",
       "1                1.0             AA          367.68  \n",
       "2                1.0             AA          417.94  \n",
       "3                1.0             AA          247.10  \n",
       "4                1.0             AA          276.35  "
      ]
     },
     "execution_count": 31,
     "metadata": {},
     "output_type": "execute_result"
    }
   ],
   "source": [
    "CF.head()"
   ]
  },
  {
   "cell_type": "code",
   "execution_count": 32,
   "id": "dcdcc1d0",
   "metadata": {},
   "outputs": [
    {
     "data": {
      "text/plain": [
       "<AxesSubplot:xlabel='Origin', ylabel='count'>"
      ]
     },
     "execution_count": 32,
     "metadata": {},
     "output_type": "execute_result"
    },
    {
     "data": {
      "image/png": "[encoded data removed]",
      "text/plain": [
       "<Figure size 432x288 with 1 Axes>"
      ]
     },
     "metadata": {
      "needs_background": "light"
     },
     "output_type": "display_data"
    }
   ],
   "source": [
    "sns.countplot(x = 'Origin', data = CF)   #Frquency of flights from the origin"
   ]
  },
  {
   "cell_type": "code",
   "execution_count": 33,
   "id": "ea87f6b7",
   "metadata": {},
   "outputs": [
    {
     "data": {
      "text/plain": [
       "<AxesSubplot:xlabel='Dest', ylabel='count'>"
      ]
     },
     "execution_count": 33,
     "metadata": {},
     "output_type": "execute_result"
    },
    {
     "data": {
      "image/png": "[encoded data removed]",
      "text/plain": [
       "<Figure size 432x288 with 1 Axes>"
      ]
     },
     "metadata": {
      "needs_background": "light"
     },
     "output_type": "display_data"
    }
   ],
   "source": [
    "sns.countplot(x = 'Dest', data = CF)     #Frquency of flights to the destination"
   ]
  },
  {
   "cell_type": "code",
   "execution_count": 34,
   "id": "80f3f722",
   "metadata": {},
   "outputs": [
    {
     "data": {
      "text/plain": [
       "<AxesSubplot:xlabel='ContiguousUSA', ylabel='count'>"
      ]
     },
     "execution_count": 34,
     "metadata": {},
     "output_type": "execute_result"
    },
    {
     "data": {
      "image/png": "[encoded data removed]",
      "text/plain": [
       "<Figure size 432x288 with 1 Axes>"
      ]
     },
     "metadata": {
      "needs_background": "light"
     },
     "output_type": "display_data"
    }
   ],
   "source": [
    "sns.countplot(x = 'ContiguousUSA', data = CF)                               #2 depicts the flights that are within USA and \n",
    "                                                                                # 1 is for outside USA"
   ]
  },
  {
   "cell_type": "code",
   "execution_count": 35,
   "id": "5c81ea13",
   "metadata": {},
   "outputs": [
    {
     "data": {
      "text/plain": [
       "MktCoupons             int64\n",
       "Quarter                int64\n",
       "Origin                object\n",
       "OriginWac              int64\n",
       "Dest                  object\n",
       "DestWac                int64\n",
       "Miles                float64\n",
       "ContiguousUSA          int64\n",
       "NumTicketsOrdered    float64\n",
       "AirlineCompany        object\n",
       "PricePerTicket       float64\n",
       "dtype: object"
      ]
     },
     "execution_count": 35,
     "metadata": {},
     "output_type": "execute_result"
    }
   ],
   "source": [
    "CF.dtypes"
   ]
  },
  {
   "cell_type": "code",
   "execution_count": 36,
   "id": "cd8ce2a1",
   "metadata": {},
   "outputs": [],
   "source": [
    "CF['NumTicketsOrdered'] = CF['NumTicketsOrdered'].astype(int)"
   ]
  },
  {
   "cell_type": "code",
   "execution_count": 37,
   "id": "b3d3b8c2",
   "metadata": {},
   "outputs": [
    {
     "data": {
      "text/plain": [
       "MktCoupons             int64\n",
       "Quarter                int64\n",
       "Origin                object\n",
       "OriginWac              int64\n",
       "Dest                  object\n",
       "DestWac                int64\n",
       "Miles                float64\n",
       "ContiguousUSA          int64\n",
       "NumTicketsOrdered      int32\n",
       "AirlineCompany        object\n",
       "PricePerTicket       float64\n",
       "dtype: object"
      ]
     },
     "execution_count": 37,
     "metadata": {},
     "output_type": "execute_result"
    }
   ],
   "source": [
    "CF.dtypes"
   ]
  },
  {
   "cell_type": "code",
   "execution_count": 38,
   "id": "0dd463f5",
   "metadata": {},
   "outputs": [
    {
     "data": {
      "text/html": [
       "<div>\n",
       "<style scoped>\n",
       "    .dataframe tbody tr th:only-of-type {\n",
       "        vertical-align: middle;\n",
       "    }\n",
       "\n",
       "    .dataframe tbody tr th {\n",
       "        vertical-align: top;\n",
       "    }\n",
       "\n",
       "    .dataframe thead th {\n",
       "        text-align: right;\n",
       "    }\n",
       "</style>\n",
       "<table border=\"1\" class=\"dataframe\">\n",
       "  <thead>\n",
       "    <tr style=\"text-align: right;\">\n",
       "      <th></th>\n",
       "      <th>MktCoupons</th>\n",
       "      <th>Quarter</th>\n",
       "      <th>Origin</th>\n",
       "      <th>OriginWac</th>\n",
       "      <th>Dest</th>\n",
       "      <th>DestWac</th>\n",
       "      <th>Miles</th>\n",
       "      <th>ContiguousUSA</th>\n",
       "      <th>NumTicketsOrdered</th>\n",
       "      <th>AirlineCompany</th>\n",
       "      <th>PricePerTicket</th>\n",
       "    </tr>\n",
       "  </thead>\n",
       "  <tbody>\n",
       "    <tr>\n",
       "      <th>0</th>\n",
       "      <td>1</td>\n",
       "      <td>1</td>\n",
       "      <td>PHL</td>\n",
       "      <td>23</td>\n",
       "      <td>LAX</td>\n",
       "      <td>91</td>\n",
       "      <td>2402.0</td>\n",
       "      <td>2</td>\n",
       "      <td>1</td>\n",
       "      <td>AA</td>\n",
       "      <td>672.87</td>\n",
       "    </tr>\n",
       "    <tr>\n",
       "      <th>1</th>\n",
       "      <td>1</td>\n",
       "      <td>1</td>\n",
       "      <td>PHL</td>\n",
       "      <td>23</td>\n",
       "      <td>LAX</td>\n",
       "      <td>91</td>\n",
       "      <td>2402.0</td>\n",
       "      <td>2</td>\n",
       "      <td>1</td>\n",
       "      <td>AA</td>\n",
       "      <td>367.68</td>\n",
       "    </tr>\n",
       "    <tr>\n",
       "      <th>2</th>\n",
       "      <td>1</td>\n",
       "      <td>1</td>\n",
       "      <td>PHL</td>\n",
       "      <td>23</td>\n",
       "      <td>LAX</td>\n",
       "      <td>91</td>\n",
       "      <td>2402.0</td>\n",
       "      <td>2</td>\n",
       "      <td>1</td>\n",
       "      <td>AA</td>\n",
       "      <td>417.94</td>\n",
       "    </tr>\n",
       "    <tr>\n",
       "      <th>3</th>\n",
       "      <td>1</td>\n",
       "      <td>1</td>\n",
       "      <td>PHL</td>\n",
       "      <td>23</td>\n",
       "      <td>LAX</td>\n",
       "      <td>91</td>\n",
       "      <td>2402.0</td>\n",
       "      <td>2</td>\n",
       "      <td>1</td>\n",
       "      <td>AA</td>\n",
       "      <td>247.10</td>\n",
       "    </tr>\n",
       "    <tr>\n",
       "      <th>4</th>\n",
       "      <td>1</td>\n",
       "      <td>1</td>\n",
       "      <td>PHL</td>\n",
       "      <td>23</td>\n",
       "      <td>LAX</td>\n",
       "      <td>91</td>\n",
       "      <td>2402.0</td>\n",
       "      <td>2</td>\n",
       "      <td>1</td>\n",
       "      <td>AA</td>\n",
       "      <td>276.35</td>\n",
       "    </tr>\n",
       "  </tbody>\n",
       "</table>\n",
       "</div>"
      ],
      "text/plain": [
       "   MktCoupons  Quarter Origin  OriginWac Dest  DestWac   Miles  ContiguousUSA  \\\n",
       "0           1        1    PHL         23  LAX       91  2402.0              2   \n",
       "1           1        1    PHL         23  LAX       91  2402.0              2   \n",
       "2           1        1    PHL         23  LAX       91  2402.0              2   \n",
       "3           1        1    PHL         23  LAX       91  2402.0              2   \n",
       "4           1        1    PHL         23  LAX       91  2402.0              2   \n",
       "\n",
       "   NumTicketsOrdered AirlineCompany  PricePerTicket  \n",
       "0                  1             AA          672.87  \n",
       "1                  1             AA          367.68  \n",
       "2                  1             AA          417.94  \n",
       "3                  1             AA          247.10  \n",
       "4                  1             AA          276.35  "
      ]
     },
     "execution_count": 38,
     "metadata": {},
     "output_type": "execute_result"
    }
   ],
   "source": [
    "CF.head()"
   ]
  },
  {
   "cell_type": "code",
   "execution_count": 39,
   "id": "a156ed4e",
   "metadata": {},
   "outputs": [
    {
     "data": {
      "text/plain": [
       "<AxesSubplot:xlabel='Quarter', ylabel='Miles'>"
      ]
     },
     "execution_count": 39,
     "metadata": {},
     "output_type": "execute_result"
    },
    {
     "data": {
      "image/png": "[encoded data removed]",
      "text/plain": [
       "<Figure size 432x288 with 1 Axes>"
      ]
     },
     "metadata": {
      "needs_background": "light"
     },
     "output_type": "display_data"
    }
   ],
   "source": [
    "sns.barplot(x = 'Quarter', y = 'Miles', data = CF)               # to show miles travelled depending on Quarters.\n",
    "                                                                    #mostly same, not much variation"
   ]
  },
  {
   "cell_type": "code",
   "execution_count": 40,
   "id": "c2c3275b",
   "metadata": {},
   "outputs": [
    {
     "data": {
      "text/plain": [
       "<AxesSubplot:xlabel='Quarter', ylabel='AirlineCompany'>"
      ]
     },
     "execution_count": 40,
     "metadata": {},
     "output_type": "execute_result"
    },
    {
     "data": {
      "image/png": "[encoded data removed]",
      "text/plain": [
       "<Figure size 432x288 with 1 Axes>"
      ]
     },
     "metadata": {
      "needs_background": "light"
     },
     "output_type": "display_data"
    }
   ],
   "source": [
    "sns.barplot(x = 'Quarter', y = 'AirlineCompany', data = CF)                    #Quarter wise flights made by airlines"
   ]
  },
  {
   "cell_type": "code",
   "execution_count": null,
   "id": "c3d76aa1",
   "metadata": {},
   "outputs": [],
   "source": [
    "sns.barplot(x = 'AirlineCompany', y = 'NumTicketsOrdered', data = CF)         #To show relationship between Airline and\n",
    "                                                                            # tickets sold by them"
   ]
  },
  {
   "cell_type": "code",
   "execution_count": null,
   "id": "32bb176a",
   "metadata": {},
   "outputs": [],
   "source": [
    "sns.boxplot(x = 'AirlineCompany', y = 'NumTicketsOrdered', data = CF)"
   ]
  },
  {
   "cell_type": "code",
   "execution_count": null,
   "id": "86177be4",
   "metadata": {},
   "outputs": [],
   "source": [
    "sns.barplot(x = 'AirlineCompany', y = 'Miles', data = CF)            "
   ]
  },
  {
   "cell_type": "code",
   "execution_count": null,
   "id": "2ed4cb71",
   "metadata": {},
   "outputs": [],
   "source": [
    "sns.boxplot(x = 'AirlineCompany', y = 'Miles', data = CF)           #Miles flown by each airline company"
   ]
  },
  {
   "cell_type": "code",
   "execution_count": null,
   "id": "c59416e7",
   "metadata": {},
   "outputs": [],
   "source": [
    "sns.stripplot(x = 'AirlineCompany', y = 'Miles', data = CF)"
   ]
  },
  {
   "cell_type": "code",
   "execution_count": null,
   "id": "2ecdd513",
   "metadata": {
    "scrolled": false
   },
   "outputs": [],
   "source": [
    "#sns.stripplot(x = 'AirlineCompany', y = 'NumTicketsOrdered', data = CF)\n",
    "#memory error"
   ]
  },
  {
   "cell_type": "code",
   "execution_count": null,
   "id": "1d26f51c",
   "metadata": {},
   "outputs": [],
   "source": [
    "#sns.stripplot(x = 'Quarter', y = 'Miles', data = CF)\n",
    "#memory error"
   ]
  },
  {
   "cell_type": "code",
   "execution_count": null,
   "id": "848d8573",
   "metadata": {},
   "outputs": [],
   "source": [
    "x2 = sns.displot(CF.PricePerTicket)"
   ]
  },
  {
   "cell_type": "code",
   "execution_count": null,
   "id": "a2958231",
   "metadata": {},
   "outputs": [],
   "source": [
    "x2 = sns.displot(CF.NumTicketsOrdered)       #not visible"
   ]
  },
  {
   "cell_type": "code",
   "execution_count": null,
   "id": "96a65560",
   "metadata": {},
   "outputs": [],
   "source": [
    "x2 = sns.displot(CF.Miles)"
   ]
  },
  {
   "cell_type": "code",
   "execution_count": null,
   "id": "4c4ce689",
   "metadata": {},
   "outputs": [],
   "source": [
    "plt.scatter(CF['PricePerTicket'], CF['Miles'])       #spread of priceperticket vs miles"
   ]
  },
  {
   "cell_type": "code",
   "execution_count": null,
   "id": "c0b89efb",
   "metadata": {},
   "outputs": [],
   "source": [
    "CF.head()"
   ]
  },
  {
   "cell_type": "code",
   "execution_count": null,
   "id": "5316a7ae",
   "metadata": {},
   "outputs": [],
   "source": [
    "plt.scatter(CF['PricePerTicket'], CF['Miles'])       "
   ]
  }
 ],
 "metadata": {
  "kernelspec": {
   "display_name": "Python 3",
   "language": "python",
   "name": "python3"
  },
  "language_info": {
   "codemirror_mode": {
    "name": "ipython",
    "version": 3
   },
   "file_extension": ".py",
   "mimetype": "text/x-python",
   "name": "python",
   "nbconvert_exporter": "python",
   "pygments_lexer": "ipython3",
   "version": "3.8.8"
  }
 },
 "nbformat": 4,
 "nbformat_minor": 5
}
